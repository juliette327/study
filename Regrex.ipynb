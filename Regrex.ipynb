{
 "cells": [
  {
   "cell_type": "code",
   "execution_count": 10,
   "metadata": {},
   "outputs": [],
   "source": [
    "import re"
   ]
  },
  {
   "cell_type": "code",
   "execution_count": 11,
   "metadata": {},
   "outputs": [
    {
     "name": "stdout",
     "output_type": "stream",
     "text": [
      "['033', '775']\n",
      "['104', '990']\n",
      "['537', '799']\n",
      "None\n"
     ]
    }
   ],
   "source": [
    "def check_cars():\n",
    "    numbers_list = 'А033АХ775 65JN В104ТТ990 У537ЕР799'\n",
    "    num_correct = re.findall(r'[АВЕКМНОРСТУХ]\\d{3}[АВЕКМНОРСТУХ]{2}\\d{2,3}', numbers_list)\n",
    "    for num in num_correct:\n",
    "        print(re.findall(r'\\d{2,3}', num))\n",
    "print(check_cars())"
   ]
  },
  {
   "cell_type": "code",
   "execution_count": 12,
   "metadata": {},
   "outputs": [
    {
     "data": {
      "text/plain": [
       "['julia.1198@mail.ru']"
      ]
     },
     "execution_count": 12,
     "metadata": {},
     "output_type": "execute_result"
    }
   ],
   "source": [
    "text1 = \"\"\"Что такое регулярные выражения и как их использовать? \n",
    "Говоря простым языком, регулярное выражение — это последовательность символов, используемая для поиска и замены текста в строке или файле. Как уже было упомянуто,\n",
    "их поддерживает множество julia.1198@mail.ru языков общего назначения: Python, Perl, R.\n",
    "Так что изучение регулярных выражений рано или поздно пригодится.\"\"\"\n",
    "email_pattern = r'[0-9a-zA-Z]+[a-zA-Z\\d_\\.]{3,}@[a-zA-Z]{2,4}\\.[a-zA-Z]{2,4}'\n",
    "re.findall(email_pattern, text1)"
   ]
  },
  {
   "cell_type": "code",
   "execution_count": 13,
   "metadata": {},
   "outputs": [
    {
     "name": "stdout",
     "output_type": "stream",
     "text": [
      "hello world\n"
     ]
    }
   ],
   "source": [
    "def delete_doubles():\n",
    "    string = 'hello hello world world world world'\n",
    "    return re.sub(r'(\\b\\w+\\b)(\\s+\\1)+', r'\\1', string)\n",
    "print(delete_doubles())"
   ]
  },
  {
   "cell_type": "code",
   "execution_count": 14,
   "metadata": {},
   "outputs": [
    {
     "name": "stdout",
     "output_type": "stream",
     "text": [
      "+7(955)-555-55-55+7(955)-555-55-55 +7(955)-555-55-55 +7(955)-555-55-55 +7(955)-555-55-55 +7(955)-555-55-55\n"
     ]
    }
   ],
   "source": [
    "text2 = \"\"\"+7 955 555-55-55  9555555555  8(955)555-55-55  +7 955 555 55 55  7(955) 555-55-55  +7 955+555+55+55.\"\"\"\n",
    "\n",
    "def check_phones(text):\n",
    "    #re.findall(r'(\\d|\\+\\d)?([\\s\\(\\-\\+])?(\\d{3})([\\s\\)\\-\\+\\s]){0,2}(\\d{3})([\\s\\(\\-\\+])?(\\d{2})([\\s\\(\\-\\+])?(\\d{2})(\\s|\\.)?', text2)\n",
    "    return re.sub(r'(\\d|\\+\\d)?([\\s\\(\\-\\+])?(\\d{3})([\\s\\)\\-\\+\\s]){0,2}(\\d{3})([\\s\\(\\-\\+])?(\\d{2})([\\s\\(\\-\\+])?(\\d{2})(\\s|\\.)?', r'+7(\\3)-\\5-\\7-\\9', text)\n",
    "print(check_phones(text2))"
   ]
  },
  {
   "cell_type": "code",
   "execution_count": null,
   "metadata": {},
   "outputs": [],
   "source": []
  }
 ],
 "metadata": {
  "kernelspec": {
   "display_name": "Python 3",
   "language": "python",
   "name": "python3"
  },
  "language_info": {
   "codemirror_mode": {
    "name": "ipython",
    "version": 3
   },
   "file_extension": ".py",
   "mimetype": "text/x-python",
   "name": "python",
   "nbconvert_exporter": "python",
   "pygments_lexer": "ipython3",
   "version": "3.7.6"
  }
 },
 "nbformat": 4,
 "nbformat_minor": 4
}
